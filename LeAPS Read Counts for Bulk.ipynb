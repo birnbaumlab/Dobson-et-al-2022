{
 "cells": [
  {
   "cell_type": "code",
   "execution_count": 2,
   "metadata": {},
   "outputs": [],
   "source": [
    "import numpy as np\n",
    "import pandas as pd\n",
    "import csv\n",
    "import string\n",
    "import matplotlib.pyplot as plt\n",
    "import seaborn as sns\n",
    "import filecmp\n",
    "from scipy import stats\n",
    "import re\n",
    "import fnmatch"
   ]
  },
  {
   "cell_type": "code",
   "execution_count": 3,
   "metadata": {
    "scrolled": true
   },
   "outputs": [
    {
     "name": "stdout",
     "output_type": "stream",
     "text": [
      "165814 reads\n",
      "Saved 71979 reads\n"
     ]
    }
   ],
   "source": [
    "from Bio import SeqIO\n",
    "\n",
    "count = 0\n",
    "for rec in SeqIO.parse(\"FastqFile.fastq\", \"fastq\"):\n",
    "    count += 1\n",
    "print(\"%i reads\" % count)\n",
    "\n",
    "good_reads = (\n",
    "    rec\n",
    "    for rec in SeqIO.parse(\"FastqFile.fastq\", \"fastq\")\n",
    "    if min(rec.letter_annotations[\"phred_quality\"]) >= 20    #Just to check quality score\n",
    ")\n",
    "count = SeqIO.write(good_reads, \"good_quality.fastq\", \"fastq\")\n",
    "print(\"Saved %i reads\" % count)"
   ]
  },
  {
   "cell_type": "code",
   "execution_count": 4,
   "metadata": {},
   "outputs": [
    {
     "name": "stdout",
     "output_type": "stream",
     "text": [
      "SOSIP Barcode is GTTAATCA\n"
     ]
    }
   ],
   "source": [
    "bcs = ['ATTCTCCC',\n",
    "'TGCGACTC',\n",
    "'ATAATCTA',\n",
    "'AGAGAACC',\n",
    "'ACACACCG',\n",
    "'ACGTTAGT',\n",
    "'CTGTTAAT',\n",
    "'TCGATCAA',\n",
    "'GTCCTGCC',\n",
    "'TGTCATCT',\n",
    "'TTGCACGG',\n",
    "'TTAAAAGC',\n",
    "'CCATAAGC',\n",
    "'CTTCCCAT',\n",
    "'ACTCACTT',\n",
    "'CCCAACTC',\n",
    "'AGACAGAT',\n",
    "'TGGGAGAG',\n",
    "'CCCTGCGC',\n",
    "'GACCTAAT',\n",
    "'CCCCGCTC',\n",
    "'TACTATTA',\n",
    "'ACAATGTC',\n",
    "'TTCCCGCG',\n",
    "'ACGTATTA',\n",
    "'ACAGATTT',\n",
    "'TATCTGTC',\n",
    "'CTTCAGTT',\n",
    "'AAACATGC',\n",
    "'CTACACCT',\n",
    "'AGTATCCG',\n",
    "'ATCCATAT',\n",
    "'GTGTACCT',\n",
    "'GCGGTGAA',\n",
    "'CCCGACGA',\n",
    "'ACCCTTGG',\n",
    "'AGGCGCAA',\n",
    "'GGCCTGTC',\n",
    "'GTTAATCA',\n",
    "'ACTCAAAG',\n",
    "'AATCCTTA',\n",
    "'TAACCATA',\n",
    "'GGGATTTT',\n",
    "'GCGAGCTG',\n",
    "'AAAAATAC',\n",
    "'ATAAAACA',\n",
    "'GGCAGGAT',\n",
    "'AGGCTGGA',\n",
    "'CCAAGCCC',\n",
    "'ATAACGTC',\n",
    "'ACAGGAGA',\n",
    "'GGTTCTAT',\n",
    "'AATTCCCG',\n",
    "'CTTATAAA',\n",
    "'GCGGACAT',\n",
    "'CGACAGAA',\n",
    "'GGATGGGG',\n",
    "'ATCCGTAG',\n",
    "'CGATGTAG',\n",
    "'TGAGTCTG',\n",
    "'GACTTGTT',\n",
    "'TGCTTTTT',\n",
    "'CAAATCGA',\n",
    "'GCTGCTTA',\n",
    "'GAGTGCAC',\n",
    "'GAGATGCA',\n",
    "'TGTTCCGA',\n",
    "'CAACAGCG',\n",
    "'GAATGTAT',\n",
    "'AACAATTG',\n",
    "'TTAATGAA',\n",
    "'GCATCGGC',\n",
    "'CTTTAAAT',\n",
    "'AGTCAAAA',\n",
    "'ACAGGGGT',\n",
    "'CGCTCATT',\n",
    "'GAGCCATT',\n",
    "'AGCTTAAT',\n",
    "'GCCAAAAA',\n",
    "'CACACACT',\n",
    "'TTAATCAA',\n",
    "'TGAACGCC',\n",
    "'CTTGATGG',\n",
    "'GACTGCCA',\n",
    "'ATTTCCGG',\n",
    "'GGTTGCGT',\n",
    "'ACTGCATT',\n",
    "'AAAGAGTA',\n",
    "'GGACCAAA',\n",
    "'CGCGTAAG',\n",
    "'TGAAGAGG',\n",
    "'TGGGTTGA',\n",
    "'TACAATTG',\n",
    "'GCATCCCG',\n",
    "'GCTTAGAC',\n",
    "'TCAAGTGC']\n",
    "\n",
    "counts = [0]*96\n",
    "print('Barcode 38 is',bcs[38]) #Sanity check that everything is entered correctly"
   ]
  },
  {
   "cell_type": "code",
   "execution_count": 5,
   "metadata": {},
   "outputs": [
    {
     "name": "stdout",
     "output_type": "stream",
     "text": [
      "293 ARCADE Packaging Line\n",
      " \n",
      "Total barcodes counted is 96311\n",
      " \n",
      "SOSIP Barcode Count is 6277\n",
      " \n",
      "SOSIP Barcode Fraction is 0.06517427915814393\n",
      " \n",
      "[904, 1397, 828, 984, 524, 1082, 414, 304, 541, 702, 368, 3109, 3151, 6669, 2143, 7878, 5214, 1061, 1325, 2318, 1273, 1358, 1096, 1204, 1655, 2806, 847, 540, 3274, 5, 9864, 70, 1666, 3924, 2264, 3851, 1891, 2074, 6277, 143, 1326, 1299, 1729, 2418, 2332, 1, 34, 0, 2, 2, 1, 3, 0, 2, 5, 4, 2, 5, 1, 39, 29, 2, 2, 2, 2, 1, 2, 2, 10, 0, 4, 2, 2, 1, 2, 1, 2, 0, 1, 2, 0, 4, 3, 1, 2, 2, 0, 1, 0, 0, 0, 4, 15, 2, 5, 0]\n"
     ]
    }
   ],
   "source": [
    "n_barcode = [0]*96\n",
    "\n",
    "with open('FastqFile.fastq', 'r') as read_file:  \n",
    "   for line in read_file:\n",
    "        barcode = line[146:154] # or wherever this should be in the sequence depending on primer config\n",
    "        for x in range(0,95):\n",
    "            if barcode == bcs[x]:\n",
    "                n_barcode[x] += 1\n",
    "\n",
    "\n",
    "np.savetxt(\"FileName.csv\", n_barcode, delimiter=\",\")\n",
    "\n",
    "print('Experiment title')\n",
    "print(' ')\n",
    "print('Total barcodes counted is', sum(n_barcode))\n",
    "print(' ')\n",
    "print('Barcode 38 Count is',n_barcode[38])\n",
    "print(' ')\n",
    "print('Barcode 38 Fraction is',(n_barcode[38]/sum(n_barcode)))\n",
    "print(' ')\n",
    "print(n_barcode)"
   ]
  }
 ],
 "metadata": {
  "kernelspec": {
   "display_name": "Python 3",
   "language": "python",
   "name": "python3"
  },
  "language_info": {
   "codemirror_mode": {
    "name": "ipython",
    "version": 3
   },
   "file_extension": ".py",
   "mimetype": "text/x-python",
   "name": "python",
   "nbconvert_exporter": "python",
   "pygments_lexer": "ipython3",
   "version": "3.7.6"
  }
 },
 "nbformat": 4,
 "nbformat_minor": 4
}
